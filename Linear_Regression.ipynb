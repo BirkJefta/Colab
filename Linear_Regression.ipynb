{
  "nbformat": 4,
  "nbformat_minor": 0,
  "metadata": {
    "colab": {
      "provenance": [],
      "include_colab_link": true
    },
    "kernelspec": {
      "name": "python3",
      "display_name": "Python 3"
    },
    "language_info": {
      "name": "python"
    }
  },
  "cells": [
    {
      "cell_type": "markdown",
      "metadata": {
        "id": "view-in-github",
        "colab_type": "text"
      },
      "source": [
        "<a href=\"https://colab.research.google.com/github/BirkJefta/Colab/blob/main/Linear_Regression.ipynb\" target=\"_parent\"><img src=\"https://colab.research.google.com/assets/colab-badge.svg\" alt=\"Open In Colab\"/></a>"
      ]
    },
    {
      "cell_type": "markdown",
      "source": [
        "### Ensure that we use Python 3.7 or above:"
      ],
      "metadata": {
        "id": "cifewyhF9BAO"
      }
    },
    {
      "cell_type": "code",
      "execution_count": 4,
      "metadata": {
        "id": "8KOQTcKX8bg2"
      },
      "outputs": [],
      "source": [
        "import sys\n",
        "\n",
        "assert sys.version_info >= (3, 7)"
      ]
    },
    {
      "cell_type": "markdown",
      "source": [
        "### Ensure that we use at least Scikit-Learn 1.0.1"
      ],
      "metadata": {
        "id": "MdUYfAR79gu8"
      }
    },
    {
      "cell_type": "code",
      "source": [
        "from packaging import version\n",
        "import sklearn\n",
        "\n",
        "assert version.parse(sklearn.__version__) >= version.parse(\"1.0.1\")"
      ],
      "metadata": {
        "id": "cEyMjLcU86Dw"
      },
      "execution_count": 5,
      "outputs": []
    },
    {
      "cell_type": "markdown",
      "source": [
        "### Let us set up the fonts in mathplotlib"
      ],
      "metadata": {
        "id": "y2xAwFNX-Q0D"
      }
    },
    {
      "cell_type": "code",
      "source": [
        "import matplotlib.pyplot as plt\n",
        "\n",
        "plt.rc('font', size=12)\n",
        "plt.rc('axes', labelsize=14, titlesize=14)\n",
        "plt.rc('legend', fontsize=12)\n",
        "plt.rc('xtick', labelsize=10)\n",
        "plt.rc('ytick', labelsize=10)"
      ],
      "metadata": {
        "id": "gwi4DUJV-K1b"
      },
      "execution_count": 6,
      "outputs": []
    },
    {
      "cell_type": "markdown",
      "source": [
        "### Import important libraries 'numpy' and 'pandas'"
      ],
      "metadata": {
        "id": "tvKLkp_dHHwf"
      }
    },
    {
      "cell_type": "code",
      "source": [
        "import numpy as np\n",
        "import pandas as pd"
      ],
      "metadata": {
        "id": "gK4Onnhy-6o8"
      },
      "execution_count": 7,
      "outputs": []
    },
    {
      "cell_type": "markdown",
      "source": [
        "# Make reference to life satifaction data file"
      ],
      "metadata": {
        "id": "zZoc-LzQHYcB"
      }
    },
    {
      "cell_type": "code",
      "source": [
        "datafile = \"https://github.com/ageron/data/raw/main/lifesat/lifesat.csv\"\n",
        "\n",
        "##Try with this one later\n",
        "##datafile = \"https://raw.githubusercontent.com/jpandersen61/Machine-Learning/main/InjuredandkilledintrafikDK.csv\""
      ],
      "metadata": {
        "id": "1EB-X59l_zgg"
      },
      "execution_count": 8,
      "outputs": []
    },
    {
      "cell_type": "markdown",
      "source": [
        "### Excercise(s):"
      ],
      "metadata": {
        "id": "GLUiNLM-HqXJ"
      }
    },
    {
      "cell_type": "markdown",
      "source": [
        "Try viewing this file in your internet browser"
      ],
      "metadata": {
        "id": "Xd2829tIAimY"
      }
    },
    {
      "cell_type": "markdown",
      "source": [
        "### Load the data file"
      ],
      "metadata": {
        "id": "yWx2mhWjIMq4"
      }
    },
    {
      "cell_type": "code",
      "source": [
        "lifesat = pd.read_csv(datafile)\n"
      ],
      "metadata": {
        "id": "9g1ETm1Y_Q2c"
      },
      "execution_count": 9,
      "outputs": []
    },
    {
      "cell_type": "markdown",
      "source": [
        "### Excercise(s)"
      ],
      "metadata": {
        "id": "JBJfOo9HFmhK"
      }
    },
    {
      "cell_type": "markdown",
      "source": [
        "1. Make a new code cell below and evaluate 'lifesat'"
      ],
      "metadata": {
        "id": "IuZ12x0WF6QK"
      }
    },
    {
      "cell_type": "markdown",
      "source": [
        "2. Get some information about the kind of data structure, that life satisfaction data is store in. Usefuk to know when using the data afterwards in Python: Make a new code cell below and evaluate 'type(lifesat)'"
      ],
      "metadata": {
        "id": "aDwhNpA3Cyp0"
      }
    },
    {
      "cell_type": "markdown",
      "source": [
        "### Extract the learning set 'X' and its labels 'y'"
      ],
      "metadata": {
        "id": "cj4YKu6oFI3Q"
      }
    },
    {
      "cell_type": "code",
      "source": [
        "X = lifesat[[\"GDP per capita (USD)\"]].values\n",
        "y = lifesat[[\"Life satisfaction\"]].values\n",
        "\n"
      ],
      "metadata": {
        "id": "NtovVwne_pM7"
      },
      "execution_count": 10,
      "outputs": []
    },
    {
      "cell_type": "markdown",
      "source": [
        "### Exercises:"
      ],
      "metadata": {
        "id": "HSYpesjdEwCn"
      }
    },
    {
      "cell_type": "markdown",
      "source": [
        "Make a new code cell below and evaluate 'X'\n",
        "\n",
        "\n",
        "\n"
      ],
      "metadata": {
        "id": "pcR9Ia3VDmWw"
      }
    },
    {
      "cell_type": "markdown",
      "source": [
        "Make a new code cell below and evaluate 'y'"
      ],
      "metadata": {
        "id": "vDQPFB9AEMMR"
      }
    },
    {
      "cell_type": "markdown",
      "source": [
        "### Let us plot the life satisfaction data and introduce a model"
      ],
      "metadata": {
        "id": "WGVG7gP1EcIx"
      }
    },
    {
      "cell_type": "code",
      "source": [
        "lifesat.plot(kind='scatter', grid=True,\n",
        "             x=\"GDP per capita (USD)\", y=\"Life satisfaction\")\n",
        "plt.axis([23_500, 62_500, 4, 9])\n",
        "plt.show()"
      ],
      "metadata": {
        "colab": {
          "base_uri": "https://localhost:8080/",
          "height": 460
        },
        "id": "uuQq8nUOERM8",
        "outputId": "18744269-8ad6-44b4-c7ae-61e0921261ca"
      },
      "execution_count": 11,
      "outputs": [
        {
          "output_type": "display_data",
          "data": {
            "text/plain": [
              "<Figure size 640x480 with 1 Axes>"
            ],
            "image/png": "[encoded data removed]"
          },
          "metadata": {}
        }
      ]
    },
    {
      "cell_type": "markdown",
      "source": [
        "### Excercise(s):"
      ],
      "metadata": {
        "id": "JIXI1IL6JvVm"
      }
    },
    {
      "cell_type": "markdown",
      "source": [
        "Define various 't0' and 't1' (thetas) and observe how it affects our model"
      ],
      "metadata": {
        "id": "EA7d6lEBJ4OK"
      }
    },
    {
      "cell_type": "code",
      "source": [
        "t0, t1 = 3.75, 6.78e-05\n",
        "\n",
        "from sklearn import linear_model\n",
        "min_gdp = 23_500\n",
        "max_gdp = 62_500\n",
        "min_life_sat = 4\n",
        "max_life_sat = 9\n",
        "\n",
        "lifesat.plot(kind='scatter', figsize=(5, 3), grid=True,\n",
        "                   x=\"GDP per capita (USD)\", y=\"Life satisfaction\")\n",
        "\n",
        "X = np.linspace(min_gdp, max_gdp, 1000)\n",
        "plt.plot(X, t0 + t1 * X, \"b\")\n",
        "\n",
        "plt.text(max_gdp - 20_000, min_life_sat + 1.9,\n",
        "         fr\"$\\theta_0 = {t0:.2f}$\", color=\"b\")\n",
        "plt.text(max_gdp - 20_000, min_life_sat + 1.3,\n",
        "         fr\"$\\theta_1 = {t1 * 1e5:.2f} \\times 10^{{-5}}$\", color=\"b\")\n",
        "\n",
        "#plt.axis([min_gdp, max_gdp, min_life_sat, max_life_sat])\n",
        "\n",
        "plt.show()"
      ],
      "metadata": {
        "colab": {
          "base_uri": "https://localhost:8080/",
          "height": 316
        },
        "id": "HXN6ixwFIzii",
        "outputId": "7cedf8c6-3415-424d-cfbc-073237049d47"
      },
      "execution_count": 26,
      "outputs": [
        {
          "output_type": "display_data",
          "data": {
            "text/plain": [
              "<Figure size 500x300 with 1 Axes>"
            ],
            "image/png": "[encoded data removed]"
          },
          "metadata": {}
        }
      ]
    },
    {
      "cell_type": "markdown",
      "source": [
        "### Establish the model"
      ],
      "metadata": {
        "id": "J0iRLACuXH79"
      }
    },
    {
      "cell_type": "code",
      "source": [
        "from sklearn import linear_model\n",
        "\n",
        "X_features = lifesat[[\"GDP per capita (USD)\"]]\n",
        "y_labels = lifesat[[\"Life satisfaction\"]]\n",
        "\n",
        "lin1 = linear_model.LinearRegression()\n",
        "lin1.fit(X_features, y_labels)\n",
        "\n",
        "t0, t1 = lin1.intercept_[0], lin1.coef_[0][0]\n",
        "print(f\"θ0={t0:.2f}, θ1={t1:.2e}\")"
      ],
      "metadata": {
        "colab": {
          "base_uri": "https://localhost:8080/"
        },
        "id": "BylN6risXh1C",
        "outputId": "04c835ca-06f7-4b16-8776-6eacb5e2b537"
      },
      "execution_count": 13,
      "outputs": [
        {
          "output_type": "stream",
          "name": "stdout",
          "text": [
            "θ0=3.75, θ1=6.78e-05\n"
          ]
        }
      ]
    },
    {
      "cell_type": "code",
      "source": [
        "X_pred = 40000\n",
        "y_pred = lin1.predict([[X_pred]])[0,0]"
      ],
      "metadata": {
        "colab": {
          "base_uri": "https://localhost:8080/"
        },
        "id": "i7nan8QdT8ZO",
        "outputId": "5cc4527c-77d2-445a-d7ed-f3f6e538e3dc"
      },
      "execution_count": 14,
      "outputs": [
        {
          "output_type": "stream",
          "name": "stderr",
          "text": [
            "/usr/local/lib/python3.12/dist-packages/sklearn/utils/validation.py:2739: UserWarning: X does not have valid feature names, but LinearRegression was fitted with feature names\n",
            "  warnings.warn(\n"
          ]
        }
      ]
    },
    {
      "cell_type": "code",
      "source": [
        "y_pred"
      ],
      "metadata": {
        "colab": {
          "base_uri": "https://localhost:8080/"
        },
        "id": "xgXDykJWUgcU",
        "outputId": "9c624430-88d0-4ee8-fe37-234d5fc82d37"
      },
      "execution_count": 15,
      "outputs": [
        {
          "output_type": "execute_result",
          "data": {
            "text/plain": [
              "np.float64(6.4606093051133975)"
            ]
          },
          "metadata": {},
          "execution_count": 15
        }
      ]
    },
    {
      "cell_type": "code",
      "source": [],
      "metadata": {
        "id": "KRCZu6w0Ub-Q"
      },
      "execution_count": 15,
      "outputs": []
    },
    {
      "cell_type": "code",
      "source": [],
      "metadata": {
        "id": "FiR8qLxZUSQ7"
      },
      "execution_count": 15,
      "outputs": []
    },
    {
      "cell_type": "code",
      "source": [
        "from sklearn import linear_model\n",
        "min_gdp = 23_500\n",
        "max_gdp = 62_500\n",
        "min_life_sat = 4\n",
        "max_life_sat = 9\n",
        "\n",
        "lifesat.plot(kind='scatter', figsize=(5, 3), grid=True,\n",
        "                   x=\"GDP per capita (USD)\", y=\"Life satisfaction\")\n",
        "\n",
        "X = np.linspace(min_gdp, max_gdp, 1000)\n",
        "plt.plot(X, t0 + t1 * X, \"b\")\n",
        "\n",
        "plt.text(max_gdp - 20_000, min_life_sat + 1.9,\n",
        "         fr\"$\\theta_0 = {t0:.2f}$\", color=\"b\")\n",
        "plt.text(max_gdp - 20_000, min_life_sat + 1.3,\n",
        "         fr\"$\\theta_1 = {t1 * 1e5:.2f} \\times 10^{{-5}}$\", color=\"b\")\n",
        "\n",
        "plt.axis([min_gdp, max_gdp, min_life_sat, max_life_sat])\n",
        "\n",
        "plt.plot([X_pred, X_pred],\n",
        "         [min_life_sat, y_pred], \"r--\")\n",
        "plt.plot(X_pred, y_pred, \"ro\")\n",
        "\n",
        "plt.show()"
      ],
      "metadata": {
        "colab": {
          "base_uri": "https://localhost:8080/",
          "height": 321
        },
        "id": "J2vqshOxZMXt",
        "outputId": "34f08353-b25c-42d2-ed0a-7751c94f1b36"
      },
      "execution_count": 16,
      "outputs": [
        {
          "output_type": "display_data",
          "data": {
            "text/plain": [
              "<Figure size 500x300 with 1 Axes>"
            ],
            "image/png": "[encoded data removed]"
          },
          "metadata": {}
        }
      ]
    },
    {
      "cell_type": "markdown",
      "source": [
        "### Excercise(s):\n"
      ],
      "metadata": {
        "id": "mrttlJ7yPI7m"
      }
    },
    {
      "cell_type": "markdown",
      "source": [
        "1. Try with another dataset https://raw.githubusercontent.com/jpandersen61/Machine-Learning/main/InjuredandkilledintrafikDK.csv"
      ],
      "metadata": {
        "id": "rvGBeixgPRTH"
      }
    },
    {
      "cell_type": "code",
      "source": [
        "datafile2 = \"https://raw.githubusercontent.com/jpandersen61/Machine-Learning/main/InjuredandkilledintrafikDK.csv\""
      ],
      "metadata": {
        "id": "O4NPUCygPYr3"
      },
      "execution_count": 29,
      "outputs": []
    },
    {
      "cell_type": "code",
      "source": [
        "injuredorkilled = pd.read_csv(datafile2)"
      ],
      "metadata": {
        "id": "X-rKO8hHH6ir"
      },
      "execution_count": 30,
      "outputs": []
    },
    {
      "cell_type": "code",
      "source": [
        "injuredorkilled"
      ],
      "metadata": {
        "id": "UrI9oFbfIC6U",
        "outputId": "aca62cee-72b7-43a5-b3b6-21f8143f79fc",
        "colab": {
          "base_uri": "https://localhost:8080/",
          "height": 739
        }
      },
      "execution_count": 31,
      "outputs": [
        {
          "output_type": "execute_result",
          "data": {
            "text/plain": [
              "    year  quantity\n",
              "0   2001      8896\n",
              "1   2002      9254\n",
              "2   2003      8844\n",
              "3   2004      7915\n",
              "4   2005      6919\n",
              "5   2006      6821\n",
              "6   2007      7062\n",
              "7   2008      6329\n",
              "8   2009      5250\n",
              "9   2010      4408\n",
              "10  2011      4259\n",
              "11  2012      3778\n",
              "12  2013      3585\n",
              "13  2014      3375\n",
              "14  2015      3334\n",
              "15  2016      3439\n",
              "16  2017      3318\n",
              "17  2018      3458\n",
              "18  2019      3275\n",
              "19  2020      2914\n",
              "20  2021      2737\n",
              "21  2022      2917"
            ],
            "text/html": [
              "\n",
              "  <div id=\"df-d4bbf5a2-345e-46d3-a02f-08f7ac05dda9\" class=\"colab-df-container\">\n",
              "    <div>\n",
              "<style scoped>\n",
              "    .dataframe tbody tr th:only-of-type {\n",
              "        vertical-align: middle;\n",
              "    }\n",
              "\n",
              "    .dataframe tbody tr th {\n",
              "        vertical-align: top;\n",
              "    }\n",
              "\n",
              "    .dataframe thead th {\n",
              "        text-align: right;\n",
              "    }\n",
              "</style>\n",
              "<table border=\"1\" class=\"dataframe\">\n",
              "  <thead>\n",
              "    <tr style=\"text-align: right;\">\n",
              "      <th></th>\n",
              "      <th>year</th>\n",
              "      <th>quantity</th>\n",
              "    </tr>\n",
              "  </thead>\n",
              "  <tbody>\n",
              "    <tr>\n",
              "      <th>0</th>\n",
              "      <td>2001</td>\n",
              "      <td>8896</td>\n",
              "    </tr>\n",
              "    <tr>\n",
              "      <th>1</th>\n",
              "      <td>2002</td>\n",
              "      <td>9254</td>\n",
              "    </tr>\n",
              "    <tr>\n",
              "      <th>2</th>\n",
              "      <td>2003</td>\n",
              "      <td>8844</td>\n",
              "    </tr>\n",
              "    <tr>\n",
              "      <th>3</th>\n",
              "      <td>2004</td>\n",
              "      <td>7915</td>\n",
              "    </tr>\n",
              "    <tr>\n",
              "      <th>4</th>\n",
              "      <td>2005</td>\n",
              "      <td>6919</td>\n",
              "    </tr>\n",
              "    <tr>\n",
              "      <th>5</th>\n",
              "      <td>2006</td>\n",
              "      <td>6821</td>\n",
              "    </tr>\n",
              "    <tr>\n",
              "      <th>6</th>\n",
              "      <td>2007</td>\n",
              "      <td>7062</td>\n",
              "    </tr>\n",
              "    <tr>\n",
              "      <th>7</th>\n",
              "      <td>2008</td>\n",
              "      <td>6329</td>\n",
              "    </tr>\n",
              "    <tr>\n",
              "      <th>8</th>\n",
              "      <td>2009</td>\n",
              "      <td>5250</td>\n",
              "    </tr>\n",
              "    <tr>\n",
              "      <th>9</th>\n",
              "      <td>2010</td>\n",
              "      <td>4408</td>\n",
              "    </tr>\n",
              "    <tr>\n",
              "      <th>10</th>\n",
              "      <td>2011</td>\n",
              "      <td>4259</td>\n",
              "    </tr>\n",
              "    <tr>\n",
              "      <th>11</th>\n",
              "      <td>2012</td>\n",
              "      <td>3778</td>\n",
              "    </tr>\n",
              "    <tr>\n",
              "      <th>12</th>\n",
              "      <td>2013</td>\n",
              "      <td>3585</td>\n",
              "    </tr>\n",
              "    <tr>\n",
              "      <th>13</th>\n",
              "      <td>2014</td>\n",
              "      <td>3375</td>\n",
              "    </tr>\n",
              "    <tr>\n",
              "      <th>14</th>\n",
              "      <td>2015</td>\n",
              "      <td>3334</td>\n",
              "    </tr>\n",
              "    <tr>\n",
              "      <th>15</th>\n",
              "      <td>2016</td>\n",
              "      <td>3439</td>\n",
              "    </tr>\n",
              "    <tr>\n",
              "      <th>16</th>\n",
              "      <td>2017</td>\n",
              "      <td>3318</td>\n",
              "    </tr>\n",
              "    <tr>\n",
              "      <th>17</th>\n",
              "      <td>2018</td>\n",
              "      <td>3458</td>\n",
              "    </tr>\n",
              "    <tr>\n",
              "      <th>18</th>\n",
              "      <td>2019</td>\n",
              "      <td>3275</td>\n",
              "    </tr>\n",
              "    <tr>\n",
              "      <th>19</th>\n",
              "      <td>2020</td>\n",
              "      <td>2914</td>\n",
              "    </tr>\n",
              "    <tr>\n",
              "      <th>20</th>\n",
              "      <td>2021</td>\n",
              "      <td>2737</td>\n",
              "    </tr>\n",
              "    <tr>\n",
              "      <th>21</th>\n",
              "      <td>2022</td>\n",
              "      <td>2917</td>\n",
              "    </tr>\n",
              "  </tbody>\n",
              "</table>\n",
              "</div>\n",
              "    <div class=\"colab-df-buttons\">\n",
              "\n",
              "  <div class=\"colab-df-container\">\n",
              "    <button class=\"colab-df-convert\" onclick=\"convertToInteractive('df-d4bbf5a2-345e-46d3-a02f-08f7ac05dda9')\"\n",
              "            title=\"Convert this dataframe to an interactive table.\"\n",
              "            style=\"display:none;\">\n",
              "\n",
              "  <svg xmlns=\"http://www.w3.org/2000/svg\" height=\"24px\" viewBox=\"0 -960 960 960\">\n",
              "    <path d=\"M120-120v-720h720v720H120Zm60-500h600v-160H180v160Zm220 220h160v-160H400v160Zm0 220h160v-160H400v160ZM180-400h160v-160H180v160Zm440 0h160v-160H620v160ZM180-180h160v-160H180v160Zm440 0h160v-160H620v160Z\"/>\n",
              "  </svg>\n",
              "    </button>\n",
              "\n",
              "  <style>\n",
              "    .colab-df-container {\n",
              "      display:flex;\n",
              "      gap: 12px;\n",
              "    }\n",
              "\n",
              "    .colab-df-convert {\n",
              "      background-color: #E8F0FE;\n",
              "      border: none;\n",
              "      border-radius: 50%;\n",
              "      cursor: pointer;\n",
              "      display: none;\n",
              "      fill: #1967D2;\n",
              "      height: 32px;\n",
              "      padding: 0 0 0 0;\n",
              "      width: 32px;\n",
              "    }\n",
              "\n",
              "    .colab-df-convert:hover {\n",
              "      background-color: #E2EBFA;\n",
              "      box-shadow: 0px 1px 2px rgba(60, 64, 67, 0.3), 0px 1px 3px 1px rgba(60, 64, 67, 0.15);\n",
              "      fill: #174EA6;\n",
              "    }\n",
              "\n",
              "    .colab-df-buttons div {\n",
              "      margin-bottom: 4px;\n",
              "    }\n",
              "\n",
              "    [theme=dark] .colab-df-convert {\n",
              "      background-color: #3B4455;\n",
              "      fill: #D2E3FC;\n",
              "    }\n",
              "\n",
              "    [theme=dark] .colab-df-convert:hover {\n",
              "      background-color: #434B5C;\n",
              "      box-shadow: 0px 1px 3px 1px rgba(0, 0, 0, 0.15);\n",
              "      filter: drop-shadow(0px 1px 2px rgba(0, 0, 0, 0.3));\n",
              "      fill: #FFFFFF;\n",
              "    }\n",
              "  </style>\n",
              "\n",
              "    <script>\n",
              "      const buttonEl =\n",
              "        document.querySelector('#df-d4bbf5a2-345e-46d3-a02f-08f7ac05dda9 button.colab-df-convert');\n",
              "      buttonEl.style.display =\n",
              "        google.colab.kernel.accessAllowed ? 'block' : 'none';\n",
              "\n",
              "      async function convertToInteractive(key) {\n",
              "        const element = document.querySelector('#df-d4bbf5a2-345e-46d3-a02f-08f7ac05dda9');\n",
              "        const dataTable =\n",
              "          await google.colab.kernel.invokeFunction('convertToInteractive',\n",
              "                                                    [key], {});\n",
              "        if (!dataTable) return;\n",
              "\n",
              "        const docLinkHtml = 'Like what you see? Visit the ' +\n",
              "          '<a target=\"_blank\" href=https://colab.research.google.com/notebooks/data_table.ipynb>data table notebook</a>'\n",
              "          + ' to learn more about interactive tables.';\n",
              "        element.innerHTML = '';\n",
              "        dataTable['output_type'] = 'display_data';\n",
              "        await google.colab.output.renderOutput(dataTable, element);\n",
              "        const docLink = document.createElement('div');\n",
              "        docLink.innerHTML = docLinkHtml;\n",
              "        element.appendChild(docLink);\n",
              "      }\n",
              "    </script>\n",
              "  </div>\n",
              "\n",
              "\n",
              "    <div id=\"df-29b1c778-50ab-4bc4-bd3e-f739112d5ebb\">\n",
              "      <button class=\"colab-df-quickchart\" onclick=\"quickchart('df-29b1c778-50ab-4bc4-bd3e-f739112d5ebb')\"\n",
              "                title=\"Suggest charts\"\n",
              "                style=\"display:none;\">\n",
              "\n",
              "<svg xmlns=\"http://www.w3.org/2000/svg\" height=\"24px\"viewBox=\"0 0 24 24\"\n",
              "     width=\"24px\">\n",
              "    <g>\n",
              "        <path d=\"M19 3H5c-1.1 0-2 .9-2 2v14c0 1.1.9 2 2 2h14c1.1 0 2-.9 2-2V5c0-1.1-.9-2-2-2zM9 17H7v-7h2v7zm4 0h-2V7h2v10zm4 0h-2v-4h2v4z\"/>\n",
              "    </g>\n",
              "</svg>\n",
              "      </button>\n",
              "\n",
              "<style>\n",
              "  .colab-df-quickchart {\n",
              "      --bg-color: #E8F0FE;\n",
              "      --fill-color: #1967D2;\n",
              "      --hover-bg-color: #E2EBFA;\n",
              "      --hover-fill-color: #174EA6;\n",
              "      --disabled-fill-color: #AAA;\n",
              "      --disabled-bg-color: #DDD;\n",
              "  }\n",
              "\n",
              "  [theme=dark] .colab-df-quickchart {\n",
              "      --bg-color: #3B4455;\n",
              "      --fill-color: #D2E3FC;\n",
              "      --hover-bg-color: #434B5C;\n",
              "      --hover-fill-color: #FFFFFF;\n",
              "      --disabled-bg-color: #3B4455;\n",
              "      --disabled-fill-color: #666;\n",
              "  }\n",
              "\n",
              "  .colab-df-quickchart {\n",
              "    background-color: var(--bg-color);\n",
              "    border: none;\n",
              "    border-radius: 50%;\n",
              "    cursor: pointer;\n",
              "    display: none;\n",
              "    fill: var(--fill-color);\n",
              "    height: 32px;\n",
              "    padding: 0;\n",
              "    width: 32px;\n",
              "  }\n",
              "\n",
              "  .colab-df-quickchart:hover {\n",
              "    background-color: var(--hover-bg-color);\n",
              "    box-shadow: 0 1px 2px rgba(60, 64, 67, 0.3), 0 1px 3px 1px rgba(60, 64, 67, 0.15);\n",
              "    fill: var(--button-hover-fill-color);\n",
              "  }\n",
              "\n",
              "  .colab-df-quickchart-complete:disabled,\n",
              "  .colab-df-quickchart-complete:disabled:hover {\n",
              "    background-color: var(--disabled-bg-color);\n",
              "    fill: var(--disabled-fill-color);\n",
              "    box-shadow: none;\n",
              "  }\n",
              "\n",
              "  .colab-df-spinner {\n",
              "    border: 2px solid var(--fill-color);\n",
              "    border-color: transparent;\n",
              "    border-bottom-color: var(--fill-color);\n",
              "    animation:\n",
              "      spin 1s steps(1) infinite;\n",
              "  }\n",
              "\n",
              "  @keyframes spin {\n",
              "    0% {\n",
              "      border-color: transparent;\n",
              "      border-bottom-color: var(--fill-color);\n",
              "      border-left-color: var(--fill-color);\n",
              "    }\n",
              "    20% {\n",
              "      border-color: transparent;\n",
              "      border-left-color: var(--fill-color);\n",
              "      border-top-color: var(--fill-color);\n",
              "    }\n",
              "    30% {\n",
              "      border-color: transparent;\n",
              "      border-left-color: var(--fill-color);\n",
              "      border-top-color: var(--fill-color);\n",
              "      border-right-color: var(--fill-color);\n",
              "    }\n",
              "    40% {\n",
              "      border-color: transparent;\n",
              "      border-right-color: var(--fill-color);\n",
              "      border-top-color: var(--fill-color);\n",
              "    }\n",
              "    60% {\n",
              "      border-color: transparent;\n",
              "      border-right-color: var(--fill-color);\n",
              "    }\n",
              "    80% {\n",
              "      border-color: transparent;\n",
              "      border-right-color: var(--fill-color);\n",
              "      border-bottom-color: var(--fill-color);\n",
              "    }\n",
              "    90% {\n",
              "      border-color: transparent;\n",
              "      border-bottom-color: var(--fill-color);\n",
              "    }\n",
              "  }\n",
              "</style>\n",
              "\n",
              "      <script>\n",
              "        async function quickchart(key) {\n",
              "          const quickchartButtonEl =\n",
              "            document.querySelector('#' + key + ' button');\n",
              "          quickchartButtonEl.disabled = true;  // To prevent multiple clicks.\n",
              "          quickchartButtonEl.classList.add('colab-df-spinner');\n",
              "          try {\n",
              "            const charts = await google.colab.kernel.invokeFunction(\n",
              "                'suggestCharts', [key], {});\n",
              "          } catch (error) {\n",
              "            console.error('Error during call to suggestCharts:', error);\n",
              "          }\n",
              "          quickchartButtonEl.classList.remove('colab-df-spinner');\n",
              "          quickchartButtonEl.classList.add('colab-df-quickchart-complete');\n",
              "        }\n",
              "        (() => {\n",
              "          let quickchartButtonEl =\n",
              "            document.querySelector('#df-29b1c778-50ab-4bc4-bd3e-f739112d5ebb button');\n",
              "          quickchartButtonEl.style.display =\n",
              "            google.colab.kernel.accessAllowed ? 'block' : 'none';\n",
              "        })();\n",
              "      </script>\n",
              "    </div>\n",
              "\n",
              "  <div id=\"id_3b99729f-5b25-4d6c-a213-2193f0614fe8\">\n",
              "    <style>\n",
              "      .colab-df-generate {\n",
              "        background-color: #E8F0FE;\n",
              "        border: none;\n",
              "        border-radius: 50%;\n",
              "        cursor: pointer;\n",
              "        display: none;\n",
              "        fill: #1967D2;\n",
              "        height: 32px;\n",
              "        padding: 0 0 0 0;\n",
              "        width: 32px;\n",
              "      }\n",
              "\n",
              "      .colab-df-generate:hover {\n",
              "        background-color: #E2EBFA;\n",
              "        box-shadow: 0px 1px 2px rgba(60, 64, 67, 0.3), 0px 1px 3px 1px rgba(60, 64, 67, 0.15);\n",
              "        fill: #174EA6;\n",
              "      }\n",
              "\n",
              "      [theme=dark] .colab-df-generate {\n",
              "        background-color: #3B4455;\n",
              "        fill: #D2E3FC;\n",
              "      }\n",
              "\n",
              "      [theme=dark] .colab-df-generate:hover {\n",
              "        background-color: #434B5C;\n",
              "        box-shadow: 0px 1px 3px 1px rgba(0, 0, 0, 0.15);\n",
              "        filter: drop-shadow(0px 1px 2px rgba(0, 0, 0, 0.3));\n",
              "        fill: #FFFFFF;\n",
              "      }\n",
              "    </style>\n",
              "    <button class=\"colab-df-generate\" onclick=\"generateWithVariable('injuredorkilled')\"\n",
              "            title=\"Generate code using this dataframe.\"\n",
              "            style=\"display:none;\">\n",
              "\n",
              "  <svg xmlns=\"http://www.w3.org/2000/svg\" height=\"24px\"viewBox=\"0 0 24 24\"\n",
              "       width=\"24px\">\n",
              "    <path d=\"M7,19H8.4L18.45,9,17,7.55,7,17.6ZM5,21V16.75L18.45,3.32a2,2,0,0,1,2.83,0l1.4,1.43a1.91,1.91,0,0,1,.58,1.4,1.91,1.91,0,0,1-.58,1.4L9.25,21ZM18.45,9,17,7.55Zm-12,3A5.31,5.31,0,0,0,4.9,8.1,5.31,5.31,0,0,0,1,6.5,5.31,5.31,0,0,0,4.9,4.9,5.31,5.31,0,0,0,6.5,1,5.31,5.31,0,0,0,8.1,4.9,5.31,5.31,0,0,0,12,6.5,5.46,5.46,0,0,0,6.5,12Z\"/>\n",
              "  </svg>\n",
              "    </button>\n",
              "    <script>\n",
              "      (() => {\n",
              "      const buttonEl =\n",
              "        document.querySelector('#id_3b99729f-5b25-4d6c-a213-2193f0614fe8 button.colab-df-generate');\n",
              "      buttonEl.style.display =\n",
              "        google.colab.kernel.accessAllowed ? 'block' : 'none';\n",
              "\n",
              "      buttonEl.onclick = () => {\n",
              "        google.colab.notebook.generateWithVariable('injuredorkilled');\n",
              "      }\n",
              "      })();\n",
              "    </script>\n",
              "  </div>\n",
              "\n",
              "    </div>\n",
              "  </div>\n"
            ],
            "application/vnd.google.colaboratory.intrinsic+json": {
              "type": "dataframe",
              "variable_name": "injuredorkilled",
              "summary": "{\n  \"name\": \"injuredorkilled\",\n  \"rows\": 22,\n  \"fields\": [\n    {\n      \"column\": \"year\",\n      \"properties\": {\n        \"dtype\": \"number\",\n        \"std\": 6,\n        \"min\": 2001,\n        \"max\": 2022,\n        \"num_unique_values\": 22,\n        \"samples\": [\n          2001,\n          2014,\n          2009\n        ],\n        \"semantic_type\": \"\",\n        \"description\": \"\"\n      }\n    },\n    {\n      \"column\": \"quantity\",\n      \"properties\": {\n        \"dtype\": \"number\",\n        \"std\": 2221,\n        \"min\": 2737,\n        \"max\": 9254,\n        \"num_unique_values\": 22,\n        \"samples\": [\n          8896,\n          3375,\n          5250\n        ],\n        \"semantic_type\": \"\",\n        \"description\": \"\"\n      }\n    }\n  ]\n}"
            }
          },
          "metadata": {},
          "execution_count": 31
        }
      ]
    },
    {
      "cell_type": "code",
      "source": [
        "X_year = injuredorkilled[['year']].values\n",
        "y_year = injuredorkilled[['quantity']].values"
      ],
      "metadata": {
        "id": "0pVCrMs6ILVu"
      },
      "execution_count": 32,
      "outputs": []
    },
    {
      "cell_type": "code",
      "source": [
        "injuredorkilled.plot(kind='scatter', grid=True,\n",
        "             x=\"year\", y=\"quantity\")\n",
        "plt.axis([2000,2022,2000,10000])\n",
        "plt.show()"
      ],
      "metadata": {
        "id": "8a5l1FRIInLY",
        "outputId": "e98cf8e7-6f9b-4a27-9f0e-24983b33a85f",
        "colab": {
          "base_uri": "https://localhost:8080/",
          "height": 460
        }
      },
      "execution_count": 33,
      "outputs": [
        {
          "output_type": "display_data",
          "data": {
            "text/plain": [
              "<Figure size 640x480 with 1 Axes>"
            ],
            "image/png": "[encoded data removed]"
          },
          "metadata": {}
        }
      ]
    },
    {
      "cell_type": "code",
      "source": [
        "from sklearn import linear_model\n",
        "\n",
        "X_injured_features = injuredorkilled[[\"year\"]]\n",
        "y_killed_labels = injuredorkilled[[\"quantity\"]]\n",
        "\n",
        "lin2 = linear_model.LinearRegression()\n",
        "lin2.fit(X_injured_features, y_killed_labels)\n",
        "\n",
        "t_i_0, t_i_1 = lin2.intercept_[0], lin2.coef_[0][0]\n",
        "print(f\"θ0={t_i_0}, θ1={t_i_1}\")"
      ],
      "metadata": {
        "id": "ZrLKpblpJ8IS",
        "outputId": "0d11ad11-309d-408b-f883-dbe4d85d9a66",
        "colab": {
          "base_uri": "https://localhost:8080/"
        }
      },
      "execution_count": 35,
      "outputs": [
        {
          "output_type": "stream",
          "name": "stdout",
          "text": [
            "θ0=651608.682100508, θ1=-321.4088085827215\n"
          ]
        }
      ]
    },
    {
      "cell_type": "code",
      "source": [
        "X_i_pred = 2025\n",
        "y_i_pred = lin2.predict([[X_i_pred]])[0,0]"
      ],
      "metadata": {
        "id": "J3x2A1MhO4aB",
        "outputId": "22147704-9353-47fd-bb9b-e0b2058b46be",
        "colab": {
          "base_uri": "https://localhost:8080/"
        }
      },
      "execution_count": 59,
      "outputs": [
        {
          "output_type": "stream",
          "name": "stderr",
          "text": [
            "/usr/local/lib/python3.12/dist-packages/sklearn/utils/validation.py:2739: UserWarning: X does not have valid feature names, but LinearRegression was fitted with feature names\n",
            "  warnings.warn(\n"
          ]
        }
      ]
    },
    {
      "cell_type": "code",
      "source": [
        "y_i_pred"
      ],
      "metadata": {
        "id": "bfjA-nVRPGkH",
        "outputId": "5cabaaa2-b59d-4fdf-de9a-d19a245fd691",
        "colab": {
          "base_uri": "https://localhost:8080/"
        }
      },
      "execution_count": 60,
      "outputs": [
        {
          "output_type": "execute_result",
          "data": {
            "text/plain": [
              "np.float64(755.8447204969125)"
            ]
          },
          "metadata": {},
          "execution_count": 60
        }
      ]
    },
    {
      "cell_type": "code",
      "source": [
        "min_year = 2000\n",
        "max_year = 2022\n",
        "min_quantity = 2000\n",
        "max_quantity = 10000\n",
        "\n",
        "\n",
        "\n",
        "injuredorkilled.plot(kind='scatter', grid=True,\n",
        "             x=\"year\", y=\"quantity\")\n",
        "\n",
        "\n",
        "\n",
        "X_i_line = np.linspace(2000, 10000, 1000)\n",
        "plt.plot(X_i_line, t_i_0 + t_i_1 * X_i_line, \"b\")\n",
        "\n",
        "plt.axis([2000,2022,2000,10000])\n",
        "plt.show()\n"
      ],
      "metadata": {
        "id": "A-HKJfTXLmnJ",
        "outputId": "dcbda031-4d9c-4058-8f9c-16f89d9cb40b",
        "colab": {
          "base_uri": "https://localhost:8080/",
          "height": 460
        }
      },
      "execution_count": 38,
      "outputs": [
        {
          "output_type": "display_data",
          "data": {
            "text/plain": [
              "<Figure size 640x480 with 1 Axes>"
            ],
            "image/png": "[encoded data removed]"
          },
          "metadata": {}
        }
      ]
    },
    {
      "cell_type": "code",
      "source": [
        "from sklearn import linear_model\n",
        "#min_gd = 23_500\n",
        "#max_gdp = 62_500\n",
        "#min_life_sat = 4\n",
        "#max_life_sat = 9\n",
        "\n",
        "injuredorkilled.plot(kind='scatter', figsize=(5, 3), grid=True,\n",
        "                   x=\"year\", y=\"quantity\")\n",
        "\n",
        "X_i_line = np.linspace(min_year, max_year)\n",
        "plt.plot(X_i_line, t_i_0 + t_i_1 * X_i_line, \"b\")\n",
        "\n",
        "plt.text(max_year, min_year,\n",
        "         fr\"$\\theta_0 = {t_i_0:.2f}$\", color=\"b\")\n",
        "#plt.text(max_quantity, min_quantity,\n",
        "         #fr\"$\\theta_1 = {t_i_1 * 1e5:.2f} \\times 10^{{-5}}$\", color=\"b\")\n",
        "\n",
        "plt.axis([min_year, max_year, min_quantity, max_quantity])\n",
        "\n",
        "plt.plot([X_i_pred, X_i_pred],\n",
        "         [min_quantity, y_i_pred], \"r--\")\n",
        "plt.plot(X_i_pred, y_i_pred, \"ro\")\n",
        "\n",
        "plt.show()"
      ],
      "metadata": {
        "id": "TazMb7w8OyBO",
        "outputId": "825aee9f-896a-4a54-9d86-178ead004698",
        "colab": {
          "base_uri": "https://localhost:8080/",
          "height": 321
        }
      },
      "execution_count": 56,
      "outputs": [
        {
          "output_type": "display_data",
          "data": {
            "text/plain": [
              "<Figure size 500x300 with 1 Axes>"
            ],
            "image/png": "[encoded data removed]"
          },
          "metadata": {}
        }
      ]
    },
    {
      "cell_type": "markdown",
      "source": [
        "### Questions"
      ],
      "metadata": {
        "id": "xpgWXfOyA23y"
      }
    },
    {
      "cell_type": "markdown",
      "source": [
        "1. How would you define Machine Learning?\n"
      ],
      "metadata": {
        "id": "rOIfHyJcA8C8"
      }
    },
    {
      "cell_type": "markdown",
      "source": [
        "Write your answer here"
      ],
      "metadata": {
        "id": "bq3i-aI1BH9Q"
      }
    },
    {
      "cell_type": "markdown",
      "source": [
        "2. Can you name four types of problems where it shines?"
      ],
      "metadata": {
        "id": "wMA1G2PPBwpU"
      }
    },
    {
      "cell_type": "markdown",
      "source": [
        "Write your answer here"
      ],
      "metadata": {
        "id": "QAcDslfMBtVj"
      }
    },
    {
      "cell_type": "markdown",
      "source": [
        "3. What is a labeled training set?"
      ],
      "metadata": {
        "id": "i0M6EMx8B71g"
      }
    },
    {
      "cell_type": "markdown",
      "source": [
        "Write your answer here"
      ],
      "metadata": {
        "id": "fipL2K_FBtin"
      }
    },
    {
      "cell_type": "markdown",
      "source": [
        "4. What are the two most common supervised tasks?"
      ],
      "metadata": {
        "id": "43FAK9O-CE8K"
      }
    },
    {
      "cell_type": "markdown",
      "source": [
        "Write your answer here"
      ],
      "metadata": {
        "id": "JjakH8_HBtmV"
      }
    },
    {
      "cell_type": "markdown",
      "source": [
        "5. Can you name four common unsupervised tasks?"
      ],
      "metadata": {
        "id": "6_5YsjSzCJes"
      }
    },
    {
      "cell_type": "markdown",
      "source": [
        "Write your answer here"
      ],
      "metadata": {
        "id": "aPFI1nvxBtp4"
      }
    },
    {
      "cell_type": "markdown",
      "source": [
        "6. What type of Machine Learning algorithm would you use to allow\n",
        "a robot to walk in various unknown terrains?\n"
      ],
      "metadata": {
        "id": "DwIRcR9YCNb5"
      }
    },
    {
      "cell_type": "markdown",
      "source": [
        "Write your answer here"
      ],
      "metadata": {
        "id": "E8SE6UvrBtuJ"
      }
    },
    {
      "cell_type": "markdown",
      "source": [
        "7. What type of algorithm would you use to segment your customers\n",
        "into multiple groups?"
      ],
      "metadata": {
        "id": "ZflRQBbbCRwX"
      }
    },
    {
      "cell_type": "markdown",
      "source": [
        "Write your answer here"
      ],
      "metadata": {
        "id": "7QcbHPkBBtwI"
      }
    },
    {
      "cell_type": "markdown",
      "source": [
        "8. Would you frame the problem of spam detection as a supervised\n",
        "learning problem or an unsupervised learning problem?"
      ],
      "metadata": {
        "id": "X0fKgGXsLq6o"
      }
    },
    {
      "cell_type": "markdown",
      "source": [
        "Write your answer here"
      ],
      "metadata": {
        "id": "nLnPVahlBty_"
      }
    },
    {
      "cell_type": "markdown",
      "source": [
        "9. What is an online learning system?\n"
      ],
      "metadata": {
        "id": "n7CHmnsdCeY3"
      }
    },
    {
      "cell_type": "markdown",
      "source": [
        "Write your answer here"
      ],
      "metadata": {
        "id": "0YRkRS_7Bt2I"
      }
    },
    {
      "cell_type": "markdown",
      "source": [
        "10. What is out-of-core learning?"
      ],
      "metadata": {
        "id": "UKkgQ_veCsN_"
      }
    },
    {
      "cell_type": "markdown",
      "source": [
        "Write your answer here"
      ],
      "metadata": {
        "id": "0raVrt27Bt5U"
      }
    },
    {
      "cell_type": "markdown",
      "source": [
        "11. What type of learning algorithm relies on a similarity measure to\n",
        "make predictions?"
      ],
      "metadata": {
        "id": "alMcqdhaCt8m"
      }
    },
    {
      "cell_type": "markdown",
      "source": [
        "Write your answer here"
      ],
      "metadata": {
        "id": "NzHnn7Q5Bt8C"
      }
    },
    {
      "cell_type": "markdown",
      "source": [
        "12. What is the difference between a model parameter and a learning\n",
        "algorithm’s hyperparameter?"
      ],
      "metadata": {
        "id": "lpvdcsj2CznS"
      }
    },
    {
      "cell_type": "markdown",
      "source": [
        "Write your answer here"
      ],
      "metadata": {
        "id": "22JFh-dABt_J"
      }
    },
    {
      "cell_type": "markdown",
      "source": [
        "13. What do model-based learning algorithms search for? What is the\n",
        "most common strategy they use to succeed? How do they make\n",
        "predictions?"
      ],
      "metadata": {
        "id": "fwVjj-WkC4U5"
      }
    },
    {
      "cell_type": "markdown",
      "source": [
        "Write your answer here"
      ],
      "metadata": {
        "id": "c8Q85u6RBuCH"
      }
    },
    {
      "cell_type": "markdown",
      "source": [
        "14. Can you name four of the main challenges in Machine Learning?"
      ],
      "metadata": {
        "id": "wkKbPfjODAj-"
      }
    },
    {
      "cell_type": "markdown",
      "source": [
        "Write your answer here"
      ],
      "metadata": {
        "id": "HznUcxBmBuFH"
      }
    }
  ]
}